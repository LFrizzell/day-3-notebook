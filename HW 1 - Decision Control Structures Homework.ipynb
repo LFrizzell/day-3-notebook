{
 "cells": [
  {
   "cell_type": "markdown",
   "metadata": {},
   "source": [
    "### Even, Odd, or Nothing Special\n",
    "Write a program that prompts the user to enter two integers and then displat a message indicating whether both numbers are \n",
    "odd or even, otherwise display a message that says \"Nothing special!\". "
   ]
  },
  {
   "cell_type": "code",
   "execution_count": null,
   "metadata": {
    "collapsed": false
   },
   "outputs": [],
   "source": [
    "n1 = # code solution here\n",
    "n2 = # code solution here\n",
    "\n",
    "if # code solution here:\n",
    "    print \"Both numbers are even:\"\n",
    "elif # code solution here:\n",
    "    print \"Both numbers are odd:\"\n",
    "else:\n",
    "    print \"Nothing special!\""
   ]
  },
  {
   "cell_type": "markdown",
   "metadata": {},
   "source": [
    "### Gallons & Liters\n",
    "Write a python program that displays the following:\n",
    "1. Convert gallons to liters\n",
    "2. Convert liters to gallons\n",
    "\n",
    "The program prompts the user to enter a choice (1 or 2) and a quantity. Then , it calculates and displays the required \n",
    "value. "
   ]
  },
  {
   "cell_type": "code",
   "execution_count": null,
   "metadata": {
    "collapsed": false
   },
   "outputs": [],
   "source": [
    "# Hint 1 gallon = 3.785 liters\n",
    "\n",
    "coefficient = 3.785\n",
    "\n",
    "print \"1: Gallons to liters\"\n",
    "print \"2: Liters to gallons\"\n",
    "choice = # code solution here\n",
    "quantity = # code solution here\n",
    "\n",
    "if # code solution here:\n",
    "    # code solution here\n",
    "    print # code solution here\n",
    "elif # code solution here:\n",
    "    # code solution here\n",
    "    print # code solution here\n",
    "else:\n",
    "    print \"Choose 1 or 2!!\""
   ]
  },
  {
   "cell_type": "markdown",
   "metadata": {},
   "source": [
    "### The Most Scientific Calculator \n",
    "Write a program that prompts the user to enter a number, the type of operation (+, -, *, /), and a second number. The\n",
    "program should execute the required operation and display. \n",
    "Also display this error, \"Error: Divinsion by zero\", if second number == 0."
   ]
  },
  {
   "cell_type": "code",
   "execution_count": null,
   "metadata": {
    "collapsed": false
   },
   "outputs": [],
   "source": [
    "num1 = # code solution here\n",
    "op = raw_input(\"Enter type of operation: \")\n",
    "num2 = # code solution here\n",
    "\n",
    "if op == # code solution here:\n",
    "    # code solution here\n",
    "elif # code solution here:\n",
    "    # code solution here\n",
    "elif # code solution here == \"*\":\n",
    "    # code solution here\n",
    "elif # code solution here:\n",
    "    if # code solution here:\n",
    "        print \"Error: Divinsion by zero\"\n",
    "    else: \n",
    "        print # code solution here\n"
   ]
  },
  {
   "cell_type": "markdown",
   "metadata": {},
   "source": [
    "### Maximum and Minimum\n",
    "Write a Python program in which you prompt the user to enter the weight of four men and have the program calculate and display the minimum and maximum weight of the four men."
   ]
  },
  {
   "cell_type": "code",
   "execution_count": null,
   "metadata": {
    "collapsed": false
   },
   "outputs": [],
   "source": [
    "# Hint use the min() & max() function\n",
    "\n",
    "print \"Enter the weight of four men: \"\n",
    "\n",
    "w1 = # code solution here\n",
    "w2 = # code solution here\n",
    "w3 = # code solution here\n",
    "w4 = # code solution here\n",
    "\n",
    "print # code solution here\n",
    "print # code solution here"
   ]
  },
  {
   "cell_type": "markdown",
   "metadata": {},
   "source": [
    "### Discount\n",
    "Write a program that calculates the discount that customers receive based on the dollar amount of their order.\n",
    "If the total amount ordered is less than thirty dollars, no discount is given. If the total amount is equal to or greater than thirty dollars and less than seventy dollars, a discount of 5\\% is given. If the total amount is equal to or greater than seventy dollars and less than \\$ 150, a discount of 10\\% is given. If the total amount is $150 or more, the customer receives a discount of 20%.\n"
   ]
  },
  {
   "cell_type": "markdown",
   "metadata": {},
   "source": [
    "<style type=\"text/css\">\n",
    ".tg  {border-collapse:collapse;border-spacing:0;}\n",
    ".tg td{font-family:Arial, sans-serif;font-size:10px;padding:10px 5px;border-style:solid;border-width:1px;overflow:hidden;word-break:normal;}\n",
    ".tg th{font-family:Arial, sans-serif;font-size:10px;font-weight:normal;padding:10px 5px;border-style:solid;border-width:1px;overflow:hidden;word-break:normal;}\n",
    "</style>\n",
    "<table class=\"tg\">\n",
    "  <tr>\n",
    "    <th class=\"tg-031e\">Range</th>\n",
    "    <th class=\"tg-031e\">Discount</th>\n",
    "  </tr>\n",
    "  <tr>\n",
    "    <td class=\"tg-031e\">amount &lt; &#36;30</td>\n",
    "    <td class=\"tg-031e\">0&#37;</td>\n",
    "  </tr>\n",
    "  <tr>\n",
    "    <td class=\"tg-031e\">&#36;30 &lt; &#61; amount &lt; &#36;70</td>\n",
    "    <td class=\"tg-031e\">5&#37;</td>\n",
    "  </tr>\n",
    "  <tr>\n",
    "    <td class=\"tg-031e\">&#36;70 &lt; &#61; amount &lt; &#36;150</td>\n",
    "    <td class=\"tg-031e\">10&#37;</td>\n",
    "  </tr>\n",
    "  <tr>\n",
    "    <td class=\"tg-031e\">&#36;150 &lt; &#61; amount</td>\n",
    "    <td class=\"tg-031e\">20&#37;</td>\n",
    "  </tr>\n",
    "</table>"
   ]
  },
  {
   "cell_type": "code",
   "execution_count": null,
   "metadata": {
    "collapsed": false
   },
   "outputs": [],
   "source": [
    "# code solution here\n",
    "\n",
    "print \"You got a discount of {}\".format(discount)\n",
    "print \"You must pay ${}\".format(payment)"
   ]
  },
  {
   "cell_type": "markdown",
   "metadata": {},
   "source": [
    "### Sending a Parcel\n",
    "Write a program that prompts the user to enter the weight of a parcel and its destination (I: inside the country,\n",
    "O: outside the country) and then calculates and displays the shipping cost.\n",
    "\n",
    "<style type=\"text/css\">\n",
    ".tg  {border-collapse:collapse;border-spacing:0;}\n",
    ".tg td{font-family:Arial, sans-serif;font-size:14px;padding:10px 5px;border-style:solid;border-width:1px;overflow:hidden;word-break:normal;}\n",
    ".tg th{font-family:Arial, sans-serif;font-size:14px;font-weight:normal;padding:10px 5px;border-style:solid;border-width:1px;overflow:hidden;word-break:normal;}\n",
    "</style>\n",
    "<table class=\"tg\">\n",
    "  <tr>\n",
    "    <th class=\"tg-031e\">Parcel's Weight<br>(in lb)</th>\n",
    "    <th class=\"tg-031e\">Destination Inside <br>the Country<br>(in USD per lb)</th>\n",
    "    <th class=\"tg-031e\">Destination Outside<br>the Country<br>(in USD)</th>\n",
    "  </tr>\n",
    "  <tr>\n",
    "    <td class=\"tg-031e\">weight &lt; 1</td>\n",
    "    <td class=\"tg-031e\">&#36;0.010</td>\n",
    "    <td class=\"tg-031e\">&#36;10</td>\n",
    "  </tr>\n",
    "  <tr>\n",
    "    <td class=\"tg-031e\">1 &lt;&#61; weight &lt; 2</td>\n",
    "    <td class=\"tg-031e\">&#36;0.013</td>\n",
    "    <td class=\"tg-031e\">&#36;20</td>\n",
    "  </tr>\n",
    "  <tr>\n",
    "    <td class=\"tg-031e\">2 &lt;&#61; weight &lt; 4</td>\n",
    "    <td class=\"tg-031e\">&#36;0.015</td>\n",
    "    <td class=\"tg-031e\">&#36;50</td>\n",
    "  </tr>\n",
    "  <tr>\n",
    "    <td class=\"tg-031e\">4 &lt;&#61; weight</td>\n",
    "    <td class=\"tg-031e\">&#36;0.020</td>\n",
    "    <td class=\"tg-031e\">&#36;60</td>\n",
    "  </tr>\n",
    "</table>"
   ]
  },
  {
   "cell_type": "code",
   "execution_count": null,
   "metadata": {
    "collapsed": false
   },
   "outputs": [],
   "source": [
    "print \"Enter Weight and destination\"\n",
    "weight = float(raw_input(\"Weight: \"))\n",
    "dest = raw_input(\"<I> for inside the country and <O> for outside the country: \")\n",
    "\n",
    "if dest.upper() == \"I\":\n",
    "# code solution here\n",
    "else:\n",
    "# code solution here\n",
    "        \n",
    "print \"Shipping cost: ${}\".format(cost)"
   ]
  },
  {
   "cell_type": "markdown",
   "metadata": {},
   "source": [
    "### Finding a Leap Year\n",
    "Write a Python program that prompts the user to enter a year and then displays a message indicating whether or not it is leap\n",
    "year. Moreover, if the user enters non-numeric characters, an error message should appear.\n",
    "\n",
    "Hint: \n",
    "A year is a leap year when at least one of the following conditions is met:\n",
    "1. The year is exactly divisible by 4 and not by 100.\n",
    "2. The year is exactly divisible by 400.\n"
   ]
  },
  {
   "cell_type": "code",
   "execution_count": null,
   "metadata": {
    "collapsed": false
   },
   "outputs": [],
   "source": [
    "# Hint: Your gonna use the modulus<%>, try & except, and the isinstance() in this code.\n",
    "# Do some research as to why I'm using isinstace() than type()\n",
    "\n",
    "# code solution here:\n",
    "    inp = # code solution here\n",
    "\n",
    "\n",
    "    if isinstance(inp, int):\n",
    "        y = int(inp)\n",
    "        if # code solution here:\n",
    "            print # code solution here\n",
    "        else:\n",
    "            print # code solution here\n",
    "    else:\n",
    "        print # code solution here\n",
    "# code solution here:\n",
    "    print \"Need year in integers!\""
   ]
  },
  {
   "cell_type": "markdown",
   "metadata": {},
   "source": [
    "### Displaying the Days of the Month\n",
    "Write a program that prompts the user to enter a month and a year and then displays how many days are in that month.\n",
    "The program needs to take into consideration the leap years. In case of a leap year, February has 29 instead of\n",
    "28 days."
   ]
  },
  {
   "cell_type": "code",
   "execution_count": null,
   "metadata": {
    "collapsed": false
   },
   "outputs": [],
   "source": [
    "m = int(raw_input(\"Enter month 1 - 12: \"))\n",
    "y = int(raw_input(\"Enter year: \"))\n",
    "\n",
    "if # code solution here:\n",
    "    if # code solution here:\n",
    "        print \"This month has 29 days.\"\n",
    "    else:\n",
    "        print # code solution here\n",
    "elif # code solution here:\n",
    "    print # code solution here\n",
    "else:\n",
    "    print \"This month has 31 days.\""
   ]
  },
  {
   "cell_type": "code",
   "execution_count": null,
   "metadata": {
    "collapsed": true
   },
   "outputs": [],
   "source": []
  }
 ],
 "metadata": {
  "kernelspec": {
   "display_name": "Python 2",
   "language": "python",
   "name": "python2"
  },
  "language_info": {
   "codemirror_mode": {
    "name": "ipython",
    "version": 2
   },
   "file_extension": ".py",
   "mimetype": "text/x-python",
   "name": "python",
   "nbconvert_exporter": "python",
   "pygments_lexer": "ipython2",
   "version": "2.7.11"
  }
 },
 "nbformat": 4,
 "nbformat_minor": 0
}
